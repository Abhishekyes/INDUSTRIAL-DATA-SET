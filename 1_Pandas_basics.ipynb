{
  "nbformat": 4,
  "nbformat_minor": 0,
  "metadata": {
    "colab": {
      "name": "1. Pandas basics",
      "provenance": [],
      "collapsed_sections": [],
      "mount_file_id": "1DuW5KpVrcaVPQy2kn0Z_Vs7qcSoI53GH",
      "authorship_tag": "ABX9TyP/Oz2dltxbyrjATw3Z3ldP"
    },
    "kernelspec": {
      "name": "python3",
      "display_name": "Python 3"
    },
    "language_info": {
      "name": "python"
    }
  },
  "cells": [
    {
      "cell_type": "markdown",
      "metadata": {
        "id": "E-fLCKMCr2JW"
      },
      "source": [
        "## loading data"
      ]
    },
    {
      "cell_type": "code",
      "metadata": {
        "id": "4b6wG2ilr0lR"
      },
      "source": [
        "import pandas as pd \n",
        "import numpy as np\n",
        "import matplotlib.pyplot as plt\n"
      ],
      "execution_count": 1,
      "outputs": []
    },
    {
      "cell_type": "code",
      "metadata": {
        "colab": {
          "base_uri": "https://localhost:8080/"
        },
        "id": "vQ99IKgmLZyy",
        "outputId": "5d29b57e-ece5-4e1e-f53f-f758349b0dbd"
      },
      "source": [
        "from google.colab import drive\n",
        "drive.mount('/content/drive')"
      ],
      "execution_count": 2,
      "outputs": [
        {
          "output_type": "stream",
          "name": "stdout",
          "text": [
            "Drive already mounted at /content/drive; to attempt to forcibly remount, call drive.mount(\"/content/drive\", force_remount=True).\n"
          ]
        }
      ]
    },
    {
      "cell_type": "code",
      "metadata": {
        "id": "8ZkTqeokLiH1"
      },
      "source": [
        "d1 = pd.read_csv(\"/content/drive/MyDrive/ml/ml-repo-master/ml-repo-master/DataSet/sbux.csv\")"
      ],
      "execution_count": 3,
      "outputs": []
    },
    {
      "cell_type": "code",
      "metadata": {
        "colab": {
          "base_uri": "https://localhost:8080/",
          "height": 112
        },
        "id": "InkmzjcuOduE",
        "outputId": "f5851678-9d15-42c7-8ab7-e00d8c469a3d"
      },
      "source": [
        "d1.head(2)"
      ],
      "execution_count": 6,
      "outputs": [
        {
          "output_type": "execute_result",
          "data": {
            "text/html": [
              "<div>\n",
              "<style scoped>\n",
              "    .dataframe tbody tr th:only-of-type {\n",
              "        vertical-align: middle;\n",
              "    }\n",
              "\n",
              "    .dataframe tbody tr th {\n",
              "        vertical-align: top;\n",
              "    }\n",
              "\n",
              "    .dataframe thead th {\n",
              "        text-align: right;\n",
              "    }\n",
              "</style>\n",
              "<table border=\"1\" class=\"dataframe\">\n",
              "  <thead>\n",
              "    <tr style=\"text-align: right;\">\n",
              "      <th></th>\n",
              "      <th>date</th>\n",
              "      <th>open</th>\n",
              "      <th>high</th>\n",
              "      <th>low</th>\n",
              "      <th>close</th>\n",
              "      <th>volume</th>\n",
              "      <th>Name</th>\n",
              "    </tr>\n",
              "  </thead>\n",
              "  <tbody>\n",
              "    <tr>\n",
              "      <th>0</th>\n",
              "      <td>2013-02-08</td>\n",
              "      <td>27.92</td>\n",
              "      <td>28.325</td>\n",
              "      <td>27.92</td>\n",
              "      <td>28.185</td>\n",
              "      <td>7146296</td>\n",
              "      <td>SBUX</td>\n",
              "    </tr>\n",
              "    <tr>\n",
              "      <th>1</th>\n",
              "      <td>2013-02-11</td>\n",
              "      <td>28.26</td>\n",
              "      <td>28.260</td>\n",
              "      <td>27.93</td>\n",
              "      <td>28.070</td>\n",
              "      <td>5457354</td>\n",
              "      <td>SBUX</td>\n",
              "    </tr>\n",
              "  </tbody>\n",
              "</table>\n",
              "</div>"
            ],
            "text/plain": [
              "         date   open    high    low   close   volume  Name\n",
              "0  2013-02-08  27.92  28.325  27.92  28.185  7146296  SBUX\n",
              "1  2013-02-11  28.26  28.260  27.93  28.070  5457354  SBUX"
            ]
          },
          "metadata": {},
          "execution_count": 6
        }
      ]
    },
    {
      "cell_type": "code",
      "metadata": {
        "colab": {
          "base_uri": "https://localhost:8080/"
        },
        "id": "XCRVFu1_OnW8",
        "outputId": "7ef08a34-e9c0-4b75-d629-9cbc4fd47327"
      },
      "source": [
        "type(d1)"
      ],
      "execution_count": 7,
      "outputs": [
        {
          "output_type": "execute_result",
          "data": {
            "text/plain": [
              "pandas.core.frame.DataFrame"
            ]
          },
          "metadata": {},
          "execution_count": 7
        }
      ]
    },
    {
      "cell_type": "code",
      "metadata": {
        "colab": {
          "base_uri": "https://localhost:8080/"
        },
        "id": "RkBUrsIkOxMh",
        "outputId": "c3885cad-dfc3-4d12-9c7a-fba85eb343ca"
      },
      "source": [
        "!head sbux.csv"
      ],
      "execution_count": 8,
      "outputs": [
        {
          "output_type": "stream",
          "name": "stdout",
          "text": [
            "head: cannot open 'sbux.csv' for reading: No such file or directory\n"
          ]
        }
      ]
    },
    {
      "cell_type": "code",
      "metadata": {
        "colab": {
          "base_uri": "https://localhost:8080/",
          "height": 144
        },
        "id": "hoZ-Dz6CO7RK",
        "outputId": "ef04b2ce-fa5c-473b-d489-2ec5afa81b3c"
      },
      "source": [
        "d1.head(3)"
      ],
      "execution_count": 9,
      "outputs": [
        {
          "output_type": "execute_result",
          "data": {
            "text/html": [
              "<div>\n",
              "<style scoped>\n",
              "    .dataframe tbody tr th:only-of-type {\n",
              "        vertical-align: middle;\n",
              "    }\n",
              "\n",
              "    .dataframe tbody tr th {\n",
              "        vertical-align: top;\n",
              "    }\n",
              "\n",
              "    .dataframe thead th {\n",
              "        text-align: right;\n",
              "    }\n",
              "</style>\n",
              "<table border=\"1\" class=\"dataframe\">\n",
              "  <thead>\n",
              "    <tr style=\"text-align: right;\">\n",
              "      <th></th>\n",
              "      <th>date</th>\n",
              "      <th>open</th>\n",
              "      <th>high</th>\n",
              "      <th>low</th>\n",
              "      <th>close</th>\n",
              "      <th>volume</th>\n",
              "      <th>Name</th>\n",
              "    </tr>\n",
              "  </thead>\n",
              "  <tbody>\n",
              "    <tr>\n",
              "      <th>0</th>\n",
              "      <td>2013-02-08</td>\n",
              "      <td>27.92</td>\n",
              "      <td>28.325</td>\n",
              "      <td>27.920</td>\n",
              "      <td>28.185</td>\n",
              "      <td>7146296</td>\n",
              "      <td>SBUX</td>\n",
              "    </tr>\n",
              "    <tr>\n",
              "      <th>1</th>\n",
              "      <td>2013-02-11</td>\n",
              "      <td>28.26</td>\n",
              "      <td>28.260</td>\n",
              "      <td>27.930</td>\n",
              "      <td>28.070</td>\n",
              "      <td>5457354</td>\n",
              "      <td>SBUX</td>\n",
              "    </tr>\n",
              "    <tr>\n",
              "      <th>2</th>\n",
              "      <td>2013-02-12</td>\n",
              "      <td>28.00</td>\n",
              "      <td>28.275</td>\n",
              "      <td>27.975</td>\n",
              "      <td>28.130</td>\n",
              "      <td>8665592</td>\n",
              "      <td>SBUX</td>\n",
              "    </tr>\n",
              "  </tbody>\n",
              "</table>\n",
              "</div>"
            ],
            "text/plain": [
              "         date   open    high     low   close   volume  Name\n",
              "0  2013-02-08  27.92  28.325  27.920  28.185  7146296  SBUX\n",
              "1  2013-02-11  28.26  28.260  27.930  28.070  5457354  SBUX\n",
              "2  2013-02-12  28.00  28.275  27.975  28.130  8665592  SBUX"
            ]
          },
          "metadata": {},
          "execution_count": 9
        }
      ]
    },
    {
      "cell_type": "code",
      "metadata": {
        "colab": {
          "base_uri": "https://localhost:8080/"
        },
        "id": "gHp9OarmPAwB",
        "outputId": "e25e27c6-ec8a-448d-afcf-d47e63c5ffbc"
      },
      "source": [
        "d1.info()"
      ],
      "execution_count": 10,
      "outputs": [
        {
          "output_type": "stream",
          "name": "stdout",
          "text": [
            "<class 'pandas.core.frame.DataFrame'>\n",
            "RangeIndex: 1259 entries, 0 to 1258\n",
            "Data columns (total 7 columns):\n",
            " #   Column  Non-Null Count  Dtype  \n",
            "---  ------  --------------  -----  \n",
            " 0   date    1259 non-null   object \n",
            " 1   open    1259 non-null   float64\n",
            " 2   high    1259 non-null   float64\n",
            " 3   low     1259 non-null   float64\n",
            " 4   close   1259 non-null   float64\n",
            " 5   volume  1259 non-null   int64  \n",
            " 6   Name    1259 non-null   object \n",
            "dtypes: float64(4), int64(1), object(2)\n",
            "memory usage: 69.0+ KB\n"
          ]
        }
      ]
    },
    {
      "cell_type": "markdown",
      "metadata": {
        "id": "QIxkH3tkPKPT"
      },
      "source": [
        "## selecting rows and column"
      ]
    },
    {
      "cell_type": "code",
      "metadata": {
        "colab": {
          "base_uri": "https://localhost:8080/"
        },
        "id": "kpPppndAPFLU",
        "outputId": "6afb9ccb-30fb-4395-dc65-ad6b020f5061"
      },
      "source": [
        "d1.columns"
      ],
      "execution_count": 11,
      "outputs": [
        {
          "output_type": "execute_result",
          "data": {
            "text/plain": [
              "Index(['date', 'open', 'high', 'low', 'close', 'volume', 'Name'], dtype='object')"
            ]
          },
          "metadata": {},
          "execution_count": 11
        }
      ]
    },
    {
      "cell_type": "code",
      "metadata": {
        "colab": {
          "base_uri": "https://localhost:8080/"
        },
        "id": "wcdNljIAPS4r",
        "outputId": "ab7dba85-88b1-4e65-c48e-e5d320399fa5"
      },
      "source": [
        "d1['date'].tail(4)"
      ],
      "execution_count": 14,
      "outputs": [
        {
          "output_type": "execute_result",
          "data": {
            "text/plain": [
              "1255    2018-02-02\n",
              "1256    2018-02-05\n",
              "1257    2018-02-06\n",
              "1258    2018-02-07\n",
              "Name: date, dtype: object"
            ]
          },
          "metadata": {},
          "execution_count": 14
        }
      ]
    },
    {
      "cell_type": "code",
      "metadata": {
        "colab": {
          "base_uri": "https://localhost:8080/",
          "height": 206
        },
        "id": "cgIGOHApPyUM",
        "outputId": "b5b6e4fa-3b9f-48ae-90a5-e102b6f5dd7b"
      },
      "source": [
        "d1[['date','open','high']].head()"
      ],
      "execution_count": 20,
      "outputs": [
        {
          "output_type": "execute_result",
          "data": {
            "text/html": [
              "<div>\n",
              "<style scoped>\n",
              "    .dataframe tbody tr th:only-of-type {\n",
              "        vertical-align: middle;\n",
              "    }\n",
              "\n",
              "    .dataframe tbody tr th {\n",
              "        vertical-align: top;\n",
              "    }\n",
              "\n",
              "    .dataframe thead th {\n",
              "        text-align: right;\n",
              "    }\n",
              "</style>\n",
              "<table border=\"1\" class=\"dataframe\">\n",
              "  <thead>\n",
              "    <tr style=\"text-align: right;\">\n",
              "      <th></th>\n",
              "      <th>date</th>\n",
              "      <th>open</th>\n",
              "      <th>high</th>\n",
              "    </tr>\n",
              "  </thead>\n",
              "  <tbody>\n",
              "    <tr>\n",
              "      <th>0</th>\n",
              "      <td>2013-02-08</td>\n",
              "      <td>27.920</td>\n",
              "      <td>28.325</td>\n",
              "    </tr>\n",
              "    <tr>\n",
              "      <th>1</th>\n",
              "      <td>2013-02-11</td>\n",
              "      <td>28.260</td>\n",
              "      <td>28.260</td>\n",
              "    </tr>\n",
              "    <tr>\n",
              "      <th>2</th>\n",
              "      <td>2013-02-12</td>\n",
              "      <td>28.000</td>\n",
              "      <td>28.275</td>\n",
              "    </tr>\n",
              "    <tr>\n",
              "      <th>3</th>\n",
              "      <td>2013-02-13</td>\n",
              "      <td>28.230</td>\n",
              "      <td>28.230</td>\n",
              "    </tr>\n",
              "    <tr>\n",
              "      <th>4</th>\n",
              "      <td>2013-02-14</td>\n",
              "      <td>27.765</td>\n",
              "      <td>27.905</td>\n",
              "    </tr>\n",
              "  </tbody>\n",
              "</table>\n",
              "</div>"
            ],
            "text/plain": [
              "         date    open    high\n",
              "0  2013-02-08  27.920  28.325\n",
              "1  2013-02-11  28.260  28.260\n",
              "2  2013-02-12  28.000  28.275\n",
              "3  2013-02-13  28.230  28.230\n",
              "4  2013-02-14  27.765  27.905"
            ]
          },
          "metadata": {},
          "execution_count": 20
        }
      ]
    },
    {
      "cell_type": "code",
      "metadata": {
        "colab": {
          "base_uri": "https://localhost:8080/"
        },
        "id": "SHC_svjhQEyw",
        "outputId": "549eeea1-74dc-4a1e-cdad-dc53f29f7657"
      },
      "source": [
        "type(d1['open'])"
      ],
      "execution_count": 22,
      "outputs": [
        {
          "output_type": "execute_result",
          "data": {
            "text/plain": [
              "pandas.core.series.Series"
            ]
          },
          "metadata": {},
          "execution_count": 22
        }
      ]
    },
    {
      "cell_type": "code",
      "metadata": {
        "colab": {
          "base_uri": "https://localhost:8080/"
        },
        "id": "mHI_PSlqQP3W",
        "outputId": "ad8c5607-9056-4829-8e91-7c514afdee67"
      },
      "source": [
        "type(d1[['open','high']])"
      ],
      "execution_count": 25,
      "outputs": [
        {
          "output_type": "execute_result",
          "data": {
            "text/plain": [
              "pandas.core.frame.DataFrame"
            ]
          },
          "metadata": {},
          "execution_count": 25
        }
      ]
    },
    {
      "cell_type": "code",
      "metadata": {
        "colab": {
          "base_uri": "https://localhost:8080/"
        },
        "id": "G6S0V9ryQX81",
        "outputId": "b48c3818-e207-414c-9b6e-68efa38e5a93"
      },
      "source": [
        "d1.iloc[0]"
      ],
      "execution_count": 29,
      "outputs": [
        {
          "output_type": "execute_result",
          "data": {
            "text/plain": [
              "date      2013-02-08\n",
              "open           27.92\n",
              "high          28.325\n",
              "low            27.92\n",
              "close         28.185\n",
              "volume       7146296\n",
              "Name            SBUX\n",
              "Name: 0, dtype: object"
            ]
          },
          "metadata": {},
          "execution_count": 29
        }
      ]
    },
    {
      "cell_type": "code",
      "metadata": {
        "colab": {
          "base_uri": "https://localhost:8080/"
        },
        "id": "fLtu8FooQuc8",
        "outputId": "a70c81b3-2637-4d0c-af1d-936260d8895b"
      },
      "source": [
        "d1.loc[0]"
      ],
      "execution_count": 30,
      "outputs": [
        {
          "output_type": "execute_result",
          "data": {
            "text/plain": [
              "date      2013-02-08\n",
              "open           27.92\n",
              "high          28.325\n",
              "low            27.92\n",
              "close         28.185\n",
              "volume       7146296\n",
              "Name            SBUX\n",
              "Name: 0, dtype: object"
            ]
          },
          "metadata": {},
          "execution_count": 30
        }
      ]
    },
    {
      "cell_type": "code",
      "metadata": {
        "id": "kW8Qc53CQx-9"
      },
      "source": [
        "d11 = pd.read_csv('/content/drive/MyDrive/ml/ml-repo-master/ml-repo-master/DataSet/sbux.csv',index_col = 'date')"
      ],
      "execution_count": 68,
      "outputs": []
    },
    {
      "cell_type": "code",
      "metadata": {
        "colab": {
          "base_uri": "https://localhost:8080/",
          "height": 454
        },
        "id": "EUE6KTt2RGbm",
        "outputId": "2190bf80-5999-481a-b0c4-eadad1949ab1"
      },
      "source": [
        "d11"
      ],
      "execution_count": 69,
      "outputs": [
        {
          "output_type": "execute_result",
          "data": {
            "text/html": [
              "<div>\n",
              "<style scoped>\n",
              "    .dataframe tbody tr th:only-of-type {\n",
              "        vertical-align: middle;\n",
              "    }\n",
              "\n",
              "    .dataframe tbody tr th {\n",
              "        vertical-align: top;\n",
              "    }\n",
              "\n",
              "    .dataframe thead th {\n",
              "        text-align: right;\n",
              "    }\n",
              "</style>\n",
              "<table border=\"1\" class=\"dataframe\">\n",
              "  <thead>\n",
              "    <tr style=\"text-align: right;\">\n",
              "      <th></th>\n",
              "      <th>open</th>\n",
              "      <th>high</th>\n",
              "      <th>low</th>\n",
              "      <th>close</th>\n",
              "      <th>volume</th>\n",
              "      <th>Name</th>\n",
              "    </tr>\n",
              "    <tr>\n",
              "      <th>date</th>\n",
              "      <th></th>\n",
              "      <th></th>\n",
              "      <th></th>\n",
              "      <th></th>\n",
              "      <th></th>\n",
              "      <th></th>\n",
              "    </tr>\n",
              "  </thead>\n",
              "  <tbody>\n",
              "    <tr>\n",
              "      <th>2013-02-08</th>\n",
              "      <td>27.920</td>\n",
              "      <td>28.325</td>\n",
              "      <td>27.920</td>\n",
              "      <td>28.185</td>\n",
              "      <td>7146296</td>\n",
              "      <td>SBUX</td>\n",
              "    </tr>\n",
              "    <tr>\n",
              "      <th>2013-02-11</th>\n",
              "      <td>28.260</td>\n",
              "      <td>28.260</td>\n",
              "      <td>27.930</td>\n",
              "      <td>28.070</td>\n",
              "      <td>5457354</td>\n",
              "      <td>SBUX</td>\n",
              "    </tr>\n",
              "    <tr>\n",
              "      <th>2013-02-12</th>\n",
              "      <td>28.000</td>\n",
              "      <td>28.275</td>\n",
              "      <td>27.975</td>\n",
              "      <td>28.130</td>\n",
              "      <td>8665592</td>\n",
              "      <td>SBUX</td>\n",
              "    </tr>\n",
              "    <tr>\n",
              "      <th>2013-02-13</th>\n",
              "      <td>28.230</td>\n",
              "      <td>28.230</td>\n",
              "      <td>27.750</td>\n",
              "      <td>27.915</td>\n",
              "      <td>7022056</td>\n",
              "      <td>SBUX</td>\n",
              "    </tr>\n",
              "    <tr>\n",
              "      <th>2013-02-14</th>\n",
              "      <td>27.765</td>\n",
              "      <td>27.905</td>\n",
              "      <td>27.675</td>\n",
              "      <td>27.775</td>\n",
              "      <td>8899188</td>\n",
              "      <td>SBUX</td>\n",
              "    </tr>\n",
              "    <tr>\n",
              "      <th>...</th>\n",
              "      <td>...</td>\n",
              "      <td>...</td>\n",
              "      <td>...</td>\n",
              "      <td>...</td>\n",
              "      <td>...</td>\n",
              "      <td>...</td>\n",
              "    </tr>\n",
              "    <tr>\n",
              "      <th>2018-02-01</th>\n",
              "      <td>56.280</td>\n",
              "      <td>56.420</td>\n",
              "      <td>55.890</td>\n",
              "      <td>56.000</td>\n",
              "      <td>14690146</td>\n",
              "      <td>SBUX</td>\n",
              "    </tr>\n",
              "    <tr>\n",
              "      <th>2018-02-02</th>\n",
              "      <td>55.900</td>\n",
              "      <td>56.320</td>\n",
              "      <td>55.700</td>\n",
              "      <td>55.770</td>\n",
              "      <td>15358909</td>\n",
              "      <td>SBUX</td>\n",
              "    </tr>\n",
              "    <tr>\n",
              "      <th>2018-02-05</th>\n",
              "      <td>55.530</td>\n",
              "      <td>56.260</td>\n",
              "      <td>54.570</td>\n",
              "      <td>54.690</td>\n",
              "      <td>16059955</td>\n",
              "      <td>SBUX</td>\n",
              "    </tr>\n",
              "    <tr>\n",
              "      <th>2018-02-06</th>\n",
              "      <td>53.685</td>\n",
              "      <td>56.060</td>\n",
              "      <td>53.560</td>\n",
              "      <td>55.610</td>\n",
              "      <td>17415065</td>\n",
              "      <td>SBUX</td>\n",
              "    </tr>\n",
              "    <tr>\n",
              "      <th>2018-02-07</th>\n",
              "      <td>55.080</td>\n",
              "      <td>55.430</td>\n",
              "      <td>54.440</td>\n",
              "      <td>54.460</td>\n",
              "      <td>13927022</td>\n",
              "      <td>SBUX</td>\n",
              "    </tr>\n",
              "  </tbody>\n",
              "</table>\n",
              "<p>1259 rows × 6 columns</p>\n",
              "</div>"
            ],
            "text/plain": [
              "              open    high     low   close    volume  Name\n",
              "date                                                      \n",
              "2013-02-08  27.920  28.325  27.920  28.185   7146296  SBUX\n",
              "2013-02-11  28.260  28.260  27.930  28.070   5457354  SBUX\n",
              "2013-02-12  28.000  28.275  27.975  28.130   8665592  SBUX\n",
              "2013-02-13  28.230  28.230  27.750  27.915   7022056  SBUX\n",
              "2013-02-14  27.765  27.905  27.675  27.775   8899188  SBUX\n",
              "...            ...     ...     ...     ...       ...   ...\n",
              "2018-02-01  56.280  56.420  55.890  56.000  14690146  SBUX\n",
              "2018-02-02  55.900  56.320  55.700  55.770  15358909  SBUX\n",
              "2018-02-05  55.530  56.260  54.570  54.690  16059955  SBUX\n",
              "2018-02-06  53.685  56.060  53.560  55.610  17415065  SBUX\n",
              "2018-02-07  55.080  55.430  54.440  54.460  13927022  SBUX\n",
              "\n",
              "[1259 rows x 6 columns]"
            ]
          },
          "metadata": {},
          "execution_count": 69
        }
      ]
    },
    {
      "cell_type": "code",
      "metadata": {
        "colab": {
          "base_uri": "https://localhost:8080/"
        },
        "id": "EZ6mh5sjRKtv",
        "outputId": "923045c0-656b-4d4b-defa-6a12f19fa2ea"
      },
      "source": [
        "d11.iloc[0]"
      ],
      "execution_count": 36,
      "outputs": [
        {
          "output_type": "execute_result",
          "data": {
            "text/plain": [
              "open        27.92\n",
              "high       28.325\n",
              "low         27.92\n",
              "close      28.185\n",
              "volume    7146296\n",
              "Name         SBUX\n",
              "Name: 2013-02-08, dtype: object"
            ]
          },
          "metadata": {},
          "execution_count": 36
        }
      ]
    },
    {
      "cell_type": "code",
      "metadata": {
        "colab": {
          "base_uri": "https://localhost:8080/",
          "height": 144
        },
        "id": "mmhB5NT6RYVi",
        "outputId": "42cb0a5d-8322-4fd0-db3c-28a6c1f241d4"
      },
      "source": [
        "d11.loc[['2018-02-06','2018-02-05']]"
      ],
      "execution_count": 39,
      "outputs": [
        {
          "output_type": "execute_result",
          "data": {
            "text/html": [
              "<div>\n",
              "<style scoped>\n",
              "    .dataframe tbody tr th:only-of-type {\n",
              "        vertical-align: middle;\n",
              "    }\n",
              "\n",
              "    .dataframe tbody tr th {\n",
              "        vertical-align: top;\n",
              "    }\n",
              "\n",
              "    .dataframe thead th {\n",
              "        text-align: right;\n",
              "    }\n",
              "</style>\n",
              "<table border=\"1\" class=\"dataframe\">\n",
              "  <thead>\n",
              "    <tr style=\"text-align: right;\">\n",
              "      <th></th>\n",
              "      <th>open</th>\n",
              "      <th>high</th>\n",
              "      <th>low</th>\n",
              "      <th>close</th>\n",
              "      <th>volume</th>\n",
              "      <th>Name</th>\n",
              "    </tr>\n",
              "    <tr>\n",
              "      <th>date</th>\n",
              "      <th></th>\n",
              "      <th></th>\n",
              "      <th></th>\n",
              "      <th></th>\n",
              "      <th></th>\n",
              "      <th></th>\n",
              "    </tr>\n",
              "  </thead>\n",
              "  <tbody>\n",
              "    <tr>\n",
              "      <th>2018-02-06</th>\n",
              "      <td>53.685</td>\n",
              "      <td>56.06</td>\n",
              "      <td>53.56</td>\n",
              "      <td>55.61</td>\n",
              "      <td>17415065</td>\n",
              "      <td>SBUX</td>\n",
              "    </tr>\n",
              "    <tr>\n",
              "      <th>2018-02-05</th>\n",
              "      <td>55.530</td>\n",
              "      <td>56.26</td>\n",
              "      <td>54.57</td>\n",
              "      <td>54.69</td>\n",
              "      <td>16059955</td>\n",
              "      <td>SBUX</td>\n",
              "    </tr>\n",
              "  </tbody>\n",
              "</table>\n",
              "</div>"
            ],
            "text/plain": [
              "              open   high    low  close    volume  Name\n",
              "date                                                   \n",
              "2018-02-06  53.685  56.06  53.56  55.61  17415065  SBUX\n",
              "2018-02-05  55.530  56.26  54.57  54.69  16059955  SBUX"
            ]
          },
          "metadata": {},
          "execution_count": 39
        }
      ]
    },
    {
      "cell_type": "code",
      "metadata": {
        "colab": {
          "base_uri": "https://localhost:8080/"
        },
        "id": "PogwyHIFRoI-",
        "outputId": "2aae0c70-e18c-470e-9857-ae5915572629"
      },
      "source": [
        "type(d11.loc[['2018-02-06','2018-02-05']])"
      ],
      "execution_count": 40,
      "outputs": [
        {
          "output_type": "execute_result",
          "data": {
            "text/plain": [
              "pandas.core.frame.DataFrame"
            ]
          },
          "metadata": {},
          "execution_count": 40
        }
      ]
    },
    {
      "cell_type": "code",
      "metadata": {
        "colab": {
          "base_uri": "https://localhost:8080/",
          "height": 206
        },
        "id": "VjOv5if-RsMk",
        "outputId": "ea83c707-1883-40e1-ac9c-30bd01fe98ef"
      },
      "source": [
        "d11[d11['high']>64]"
      ],
      "execution_count": 45,
      "outputs": [
        {
          "output_type": "execute_result",
          "data": {
            "text/html": [
              "<div>\n",
              "<style scoped>\n",
              "    .dataframe tbody tr th:only-of-type {\n",
              "        vertical-align: middle;\n",
              "    }\n",
              "\n",
              "    .dataframe tbody tr th {\n",
              "        vertical-align: top;\n",
              "    }\n",
              "\n",
              "    .dataframe thead th {\n",
              "        text-align: right;\n",
              "    }\n",
              "</style>\n",
              "<table border=\"1\" class=\"dataframe\">\n",
              "  <thead>\n",
              "    <tr style=\"text-align: right;\">\n",
              "      <th></th>\n",
              "      <th>open</th>\n",
              "      <th>high</th>\n",
              "      <th>low</th>\n",
              "      <th>close</th>\n",
              "      <th>volume</th>\n",
              "      <th>Name</th>\n",
              "    </tr>\n",
              "    <tr>\n",
              "      <th>date</th>\n",
              "      <th></th>\n",
              "      <th></th>\n",
              "      <th></th>\n",
              "      <th></th>\n",
              "      <th></th>\n",
              "      <th></th>\n",
              "    </tr>\n",
              "  </thead>\n",
              "  <tbody>\n",
              "    <tr>\n",
              "      <th>2017-06-02</th>\n",
              "      <td>63.88</td>\n",
              "      <td>64.680</td>\n",
              "      <td>63.70</td>\n",
              "      <td>64.57</td>\n",
              "      <td>7840374</td>\n",
              "      <td>SBUX</td>\n",
              "    </tr>\n",
              "    <tr>\n",
              "      <th>2017-06-05</th>\n",
              "      <td>64.85</td>\n",
              "      <td>64.870</td>\n",
              "      <td>64.18</td>\n",
              "      <td>64.27</td>\n",
              "      <td>6809284</td>\n",
              "      <td>SBUX</td>\n",
              "    </tr>\n",
              "    <tr>\n",
              "      <th>2017-06-06</th>\n",
              "      <td>64.22</td>\n",
              "      <td>64.350</td>\n",
              "      <td>64.05</td>\n",
              "      <td>64.16</td>\n",
              "      <td>5448439</td>\n",
              "      <td>SBUX</td>\n",
              "    </tr>\n",
              "    <tr>\n",
              "      <th>2017-06-07</th>\n",
              "      <td>64.13</td>\n",
              "      <td>64.295</td>\n",
              "      <td>63.34</td>\n",
              "      <td>63.50</td>\n",
              "      <td>8364994</td>\n",
              "      <td>SBUX</td>\n",
              "    </tr>\n",
              "  </tbody>\n",
              "</table>\n",
              "</div>"
            ],
            "text/plain": [
              "             open    high    low  close   volume  Name\n",
              "date                                                  \n",
              "2017-06-02  63.88  64.680  63.70  64.57  7840374  SBUX\n",
              "2017-06-05  64.85  64.870  64.18  64.27  6809284  SBUX\n",
              "2017-06-06  64.22  64.350  64.05  64.16  5448439  SBUX\n",
              "2017-06-07  64.13  64.295  63.34  63.50  8364994  SBUX"
            ]
          },
          "metadata": {},
          "execution_count": 45
        }
      ]
    },
    {
      "cell_type": "code",
      "metadata": {
        "colab": {
          "base_uri": "https://localhost:8080/"
        },
        "id": "a6dABdrrSEBd",
        "outputId": "b9c7bf49-f00e-4eaf-c30b-2949b4ea8f24"
      },
      "source": [
        " !pwd"
      ],
      "execution_count": 47,
      "outputs": [
        {
          "output_type": "stream",
          "name": "stdout",
          "text": [
            "/content\n"
          ]
        }
      ]
    },
    {
      "cell_type": "code",
      "metadata": {
        "colab": {
          "base_uri": "https://localhost:8080/"
        },
        "id": "Buw3s5xhY1gP",
        "outputId": "dd0870cc-8616-4e26-8389-cc5b1c86fe1b"
      },
      "source": [
        "A = np.arange(10)\n",
        "A"
      ],
      "execution_count": 49,
      "outputs": [
        {
          "output_type": "execute_result",
          "data": {
            "text/plain": [
              "array([0, 1, 2, 3, 4, 5, 6, 7, 8, 9])"
            ]
          },
          "metadata": {},
          "execution_count": 49
        }
      ]
    },
    {
      "cell_type": "code",
      "metadata": {
        "colab": {
          "base_uri": "https://localhost:8080/"
        },
        "id": "TEmN-4ZzZDSD",
        "outputId": "56ab666e-17ec-4208-904d-0bef87c61ef9"
      },
      "source": [
        "A% 2 == 0"
      ],
      "execution_count": 50,
      "outputs": [
        {
          "output_type": "execute_result",
          "data": {
            "text/plain": [
              "array([ True, False,  True, False,  True, False,  True, False,  True,\n",
              "       False])"
            ]
          },
          "metadata": {},
          "execution_count": 50
        }
      ]
    },
    {
      "cell_type": "code",
      "metadata": {
        "colab": {
          "base_uri": "https://localhost:8080/"
        },
        "id": "NsB8iii3ZK_Q",
        "outputId": "b079e2f3-2556-4239-b524-427fe18801e3"
      },
      "source": [
        "A[A% 2 == 0]"
      ],
      "execution_count": 52,
      "outputs": [
        {
          "output_type": "execute_result",
          "data": {
            "text/plain": [
              "array([0, 2, 4, 6, 8])"
            ]
          },
          "metadata": {},
          "execution_count": 52
        }
      ]
    },
    {
      "cell_type": "code",
      "metadata": {
        "colab": {
          "base_uri": "https://localhost:8080/"
        },
        "id": "55bO60Z1ZPSQ",
        "outputId": "3fb9f695-6908-4b3e-8cfe-c4944eed1f43"
      },
      "source": [
        "d11.values"
      ],
      "execution_count": 53,
      "outputs": [
        {
          "output_type": "execute_result",
          "data": {
            "text/plain": [
              "array([[27.92, 28.325, 27.92, 28.185, 7146296, 'SBUX'],\n",
              "       [28.26, 28.26, 27.93, 28.07, 5457354, 'SBUX'],\n",
              "       [28.0, 28.275, 27.975, 28.13, 8665592, 'SBUX'],\n",
              "       ...,\n",
              "       [55.53, 56.26, 54.57, 54.69, 16059955, 'SBUX'],\n",
              "       [53.685, 56.06, 53.56, 55.61, 17415065, 'SBUX'],\n",
              "       [55.08, 55.43, 54.44, 54.46, 13927022, 'SBUX']], dtype=object)"
            ]
          },
          "metadata": {},
          "execution_count": 53
        }
      ]
    },
    {
      "cell_type": "code",
      "metadata": {
        "id": "sxvPlwEvZUSl"
      },
      "source": [
        "A = d11[['open','high']]"
      ],
      "execution_count": 55,
      "outputs": []
    },
    {
      "cell_type": "code",
      "metadata": {
        "colab": {
          "base_uri": "https://localhost:8080/",
          "height": 237
        },
        "id": "h-TrVUNNZofJ",
        "outputId": "39007b02-2469-4f60-a8dd-da4554db878b"
      },
      "source": [
        "A.head()"
      ],
      "execution_count": 59,
      "outputs": [
        {
          "output_type": "execute_result",
          "data": {
            "text/html": [
              "<div>\n",
              "<style scoped>\n",
              "    .dataframe tbody tr th:only-of-type {\n",
              "        vertical-align: middle;\n",
              "    }\n",
              "\n",
              "    .dataframe tbody tr th {\n",
              "        vertical-align: top;\n",
              "    }\n",
              "\n",
              "    .dataframe thead th {\n",
              "        text-align: right;\n",
              "    }\n",
              "</style>\n",
              "<table border=\"1\" class=\"dataframe\">\n",
              "  <thead>\n",
              "    <tr style=\"text-align: right;\">\n",
              "      <th></th>\n",
              "      <th>open</th>\n",
              "      <th>high</th>\n",
              "    </tr>\n",
              "    <tr>\n",
              "      <th>date</th>\n",
              "      <th></th>\n",
              "      <th></th>\n",
              "    </tr>\n",
              "  </thead>\n",
              "  <tbody>\n",
              "    <tr>\n",
              "      <th>2013-02-08</th>\n",
              "      <td>27.920</td>\n",
              "      <td>28.325</td>\n",
              "    </tr>\n",
              "    <tr>\n",
              "      <th>2013-02-11</th>\n",
              "      <td>28.260</td>\n",
              "      <td>28.260</td>\n",
              "    </tr>\n",
              "    <tr>\n",
              "      <th>2013-02-12</th>\n",
              "      <td>28.000</td>\n",
              "      <td>28.275</td>\n",
              "    </tr>\n",
              "    <tr>\n",
              "      <th>2013-02-13</th>\n",
              "      <td>28.230</td>\n",
              "      <td>28.230</td>\n",
              "    </tr>\n",
              "    <tr>\n",
              "      <th>2013-02-14</th>\n",
              "      <td>27.765</td>\n",
              "      <td>27.905</td>\n",
              "    </tr>\n",
              "  </tbody>\n",
              "</table>\n",
              "</div>"
            ],
            "text/plain": [
              "              open    high\n",
              "date                      \n",
              "2013-02-08  27.920  28.325\n",
              "2013-02-11  28.260  28.260\n",
              "2013-02-12  28.000  28.275\n",
              "2013-02-13  28.230  28.230\n",
              "2013-02-14  27.765  27.905"
            ]
          },
          "metadata": {},
          "execution_count": 59
        }
      ]
    },
    {
      "cell_type": "code",
      "metadata": {
        "id": "C4PzSdidZqLd"
      },
      "source": [
        "smalld1 = d1[['open','high']]\n",
        "smalld1.to_csv('output.csv',index = False)"
      ],
      "execution_count": 62,
      "outputs": []
    },
    {
      "cell_type": "code",
      "metadata": {
        "id": "EmCdwe4faVEc"
      },
      "source": [
        "def date_to_year(row):\n",
        "  return int(row['date'].split('-')[0])\n",
        "\n",
        "d11['year'] = d11.apply(date_to_year, axis= 1)"
      ],
      "execution_count": null,
      "outputs": []
    },
    {
      "cell_type": "markdown",
      "metadata": {
        "id": "32qo_EGNdP_w"
      },
      "source": [
        "## Basic calculation"
      ]
    },
    {
      "cell_type": "code",
      "metadata": {
        "colab": {
          "base_uri": "https://localhost:8080/"
        },
        "id": "2gglsPv_bZ9m",
        "outputId": "86efabcd-9bf3-4910-d191-5fd44dc7d7f2"
      },
      "source": [
        "np.mean(d1[['open','close']])"
      ],
      "execution_count": 73,
      "outputs": [
        {
          "output_type": "execute_result",
          "data": {
            "text/plain": [
              "open     48.344296\n",
              "close    48.352246\n",
              "dtype: float64"
            ]
          },
          "metadata": {},
          "execution_count": 73
        }
      ]
    },
    {
      "cell_type": "code",
      "metadata": {
        "colab": {
          "base_uri": "https://localhost:8080/"
        },
        "id": "PXQItNuTdYej",
        "outputId": "04c333c2-bdd9-46a8-bd8f-6d1cbc080c92"
      },
      "source": [
        "np.median(d1[['open','close']])"
      ],
      "execution_count": 75,
      "outputs": [
        {
          "output_type": "execute_result",
          "data": {
            "text/plain": [
              "53.53"
            ]
          },
          "metadata": {},
          "execution_count": 75
        }
      ]
    },
    {
      "cell_type": "code",
      "metadata": {
        "colab": {
          "base_uri": "https://localhost:8080/"
        },
        "id": "RO41gB63dl1R",
        "outputId": "80b83368-619d-4067-e038-9616cf0e5684"
      },
      "source": [
        "np.std(d1[['open','close']])"
      ],
      "execution_count": 76,
      "outputs": [
        {
          "output_type": "execute_result",
          "data": {
            "text/plain": [
              "open     10.384981\n",
              "close    10.387739\n",
              "dtype: float64"
            ]
          },
          "metadata": {},
          "execution_count": 76
        }
      ]
    },
    {
      "cell_type": "code",
      "metadata": {
        "colab": {
          "base_uri": "https://localhost:8080/"
        },
        "id": "yK4P4QP1dwtE",
        "outputId": "29dd28f8-8943-458f-b156-1858646047e4"
      },
      "source": [
        "np.var(d1[['open','close']])"
      ],
      "execution_count": 77,
      "outputs": [
        {
          "output_type": "execute_result",
          "data": {
            "text/plain": [
              "open     107.847836\n",
              "close    107.905118\n",
              "dtype: float64"
            ]
          },
          "metadata": {},
          "execution_count": 77
        }
      ]
    },
    {
      "cell_type": "code",
      "metadata": {
        "colab": {
          "base_uri": "https://localhost:8080/",
          "height": 300
        },
        "id": "baOqWqaLeBvB",
        "outputId": "f949ba03-37f8-412d-cb66-59757eba6302"
      },
      "source": [
        "d11.describe()"
      ],
      "execution_count": 79,
      "outputs": [
        {
          "output_type": "execute_result",
          "data": {
            "text/html": [
              "<div>\n",
              "<style scoped>\n",
              "    .dataframe tbody tr th:only-of-type {\n",
              "        vertical-align: middle;\n",
              "    }\n",
              "\n",
              "    .dataframe tbody tr th {\n",
              "        vertical-align: top;\n",
              "    }\n",
              "\n",
              "    .dataframe thead th {\n",
              "        text-align: right;\n",
              "    }\n",
              "</style>\n",
              "<table border=\"1\" class=\"dataframe\">\n",
              "  <thead>\n",
              "    <tr style=\"text-align: right;\">\n",
              "      <th></th>\n",
              "      <th>open</th>\n",
              "      <th>high</th>\n",
              "      <th>low</th>\n",
              "      <th>close</th>\n",
              "      <th>volume</th>\n",
              "    </tr>\n",
              "  </thead>\n",
              "  <tbody>\n",
              "    <tr>\n",
              "      <th>count</th>\n",
              "      <td>1259.000000</td>\n",
              "      <td>1259.000000</td>\n",
              "      <td>1259.000000</td>\n",
              "      <td>1259.000000</td>\n",
              "      <td>1.259000e+03</td>\n",
              "    </tr>\n",
              "    <tr>\n",
              "      <th>mean</th>\n",
              "      <td>48.344296</td>\n",
              "      <td>48.717212</td>\n",
              "      <td>47.956827</td>\n",
              "      <td>48.352246</td>\n",
              "      <td>9.230517e+06</td>\n",
              "    </tr>\n",
              "    <tr>\n",
              "      <th>std</th>\n",
              "      <td>10.389108</td>\n",
              "      <td>10.458485</td>\n",
              "      <td>10.304082</td>\n",
              "      <td>10.391867</td>\n",
              "      <td>4.382209e+06</td>\n",
              "    </tr>\n",
              "    <tr>\n",
              "      <th>min</th>\n",
              "      <td>26.535000</td>\n",
              "      <td>26.820000</td>\n",
              "      <td>26.260000</td>\n",
              "      <td>26.605000</td>\n",
              "      <td>2.215418e+06</td>\n",
              "    </tr>\n",
              "    <tr>\n",
              "      <th>25%</th>\n",
              "      <td>38.372500</td>\n",
              "      <td>38.690650</td>\n",
              "      <td>38.087750</td>\n",
              "      <td>38.355000</td>\n",
              "      <td>6.661026e+06</td>\n",
              "    </tr>\n",
              "    <tr>\n",
              "      <th>50%</th>\n",
              "      <td>53.520000</td>\n",
              "      <td>53.995000</td>\n",
              "      <td>53.180000</td>\n",
              "      <td>53.540000</td>\n",
              "      <td>8.138313e+06</td>\n",
              "    </tr>\n",
              "    <tr>\n",
              "      <th>75%</th>\n",
              "      <td>57.270000</td>\n",
              "      <td>57.735000</td>\n",
              "      <td>56.850000</td>\n",
              "      <td>57.360000</td>\n",
              "      <td>1.059388e+07</td>\n",
              "    </tr>\n",
              "    <tr>\n",
              "      <th>max</th>\n",
              "      <td>64.850000</td>\n",
              "      <td>64.870000</td>\n",
              "      <td>64.180000</td>\n",
              "      <td>64.570000</td>\n",
              "      <td>5.345479e+07</td>\n",
              "    </tr>\n",
              "  </tbody>\n",
              "</table>\n",
              "</div>"
            ],
            "text/plain": [
              "              open         high          low        close        volume\n",
              "count  1259.000000  1259.000000  1259.000000  1259.000000  1.259000e+03\n",
              "mean     48.344296    48.717212    47.956827    48.352246  9.230517e+06\n",
              "std      10.389108    10.458485    10.304082    10.391867  4.382209e+06\n",
              "min      26.535000    26.820000    26.260000    26.605000  2.215418e+06\n",
              "25%      38.372500    38.690650    38.087750    38.355000  6.661026e+06\n",
              "50%      53.520000    53.995000    53.180000    53.540000  8.138313e+06\n",
              "75%      57.270000    57.735000    56.850000    57.360000  1.059388e+07\n",
              "max      64.850000    64.870000    64.180000    64.570000  5.345479e+07"
            ]
          },
          "metadata": {},
          "execution_count": 79
        }
      ]
    },
    {
      "cell_type": "code",
      "metadata": {
        "colab": {
          "base_uri": "https://localhost:8080/"
        },
        "id": "nySLyDkjePgH",
        "outputId": "48ea2c61-5292-4154-a690-f97ef58ce083"
      },
      "source": [
        "d1.info()"
      ],
      "execution_count": 80,
      "outputs": [
        {
          "output_type": "stream",
          "name": "stdout",
          "text": [
            "<class 'pandas.core.frame.DataFrame'>\n",
            "RangeIndex: 1259 entries, 0 to 1258\n",
            "Data columns (total 7 columns):\n",
            " #   Column  Non-Null Count  Dtype  \n",
            "---  ------  --------------  -----  \n",
            " 0   date    1259 non-null   object \n",
            " 1   open    1259 non-null   float64\n",
            " 2   high    1259 non-null   float64\n",
            " 3   low     1259 non-null   float64\n",
            " 4   close   1259 non-null   float64\n",
            " 5   volume  1259 non-null   int64  \n",
            " 6   Name    1259 non-null   object \n",
            "dtypes: float64(4), int64(1), object(2)\n",
            "memory usage: 69.0+ KB\n"
          ]
        }
      ]
    },
    {
      "cell_type": "markdown",
      "metadata": {
        "id": "anRrYzNOd4jg"
      },
      "source": [
        "## plotting with pandas"
      ]
    },
    {
      "cell_type": "code",
      "metadata": {
        "colab": {
          "base_uri": "https://localhost:8080/",
          "height": 265
        },
        "id": "xrKvE7Gidyn2",
        "outputId": "5b819686-9870-42a8-b79c-08d38eb51550"
      },
      "source": [
        "d1['open'].hist();"
      ],
      "execution_count": 81,
      "outputs": [
        {
          "output_type": "display_data",
          "data": {
            "image/png": "[encoded data removed]",
            "text/plain": [
              "<Figure size 432x288 with 1 Axes>"
            ]
          },
          "metadata": {
            "needs_background": "light"
          }
        }
      ]
    },
    {
      "cell_type": "code",
      "metadata": {
        "colab": {
          "base_uri": "https://localhost:8080/",
          "height": 265
        },
        "id": "TWWNIjN0hVXh",
        "outputId": "e295d5e5-f2f1-4ec1-94b8-e728ae3cfd63"
      },
      "source": [
        "d1['open'].plot();"
      ],
      "execution_count": 82,
      "outputs": [
        {
          "output_type": "display_data",
          "data": {
            "image/png": "[encoded data removed]",
            "text/plain": [
              "<Figure size 432x288 with 1 Axes>"
            ]
          },
          "metadata": {
            "needs_background": "light"
          }
        }
      ]
    },
    {
      "cell_type": "code",
      "metadata": {
        "colab": {
          "base_uri": "https://localhost:8080/",
          "height": 265
        },
        "id": "B7xHUePnhcsi",
        "outputId": "c592b4db-91f3-4ba5-9e0c-08bb86cb1ef2"
      },
      "source": [
        "d1[['open','high','low','close']].plot.box();"
      ],
      "execution_count": 83,
      "outputs": [
        {
          "output_type": "display_data",
          "data": {
            "image/png": "[encoded data removed]",
            "text/plain": [
              "<Figure size 432x288 with 1 Axes>"
            ]
          },
          "metadata": {
            "needs_background": "light"
          }
        }
      ]
    },
    {
      "cell_type": "code",
      "metadata": {
        "colab": {
          "base_uri": "https://localhost:8080/",
          "height": 388
        },
        "id": "CNmc1bLshxIX",
        "outputId": "5ab28caa-efcc-4646-dabb-7d5510965e69"
      },
      "source": [
        "from pandas.plotting import scatter_matrix\n",
        "scatter_matrix(d1[['open','high','low','close']],alpha =0.2,figsize =(6,6));"
      ],
      "execution_count": 88,
      "outputs": [
        {
          "output_type": "display_data",
          "data": {
            "image/png": "[encoded data removed]",
            "text/plain": [
              "<Figure size 432x432 with 16 Axes>"
            ]
          },
          "metadata": {
            "needs_background": "light"
          }
        }
      ]
    },
    {
      "cell_type": "code",
      "metadata": {
        "id": "1bVtU1jIiIf5"
      },
      "source": [
        ""
      ],
      "execution_count": null,
      "outputs": []
    }
  ]
}